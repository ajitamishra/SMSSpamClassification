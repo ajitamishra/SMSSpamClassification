{
  "nbformat": 4,
  "nbformat_minor": 0,
  "metadata": {
    "colab": {
      "name": "(SMSClassification(With and without pre-trained embedding).ipynb",
      "provenance": []
    },
    "kernelspec": {
      "name": "python3",
      "display_name": "Python 3"
    },
    "language_info": {
      "name": "python"
    }
  },
  "cells": [
    {
      "cell_type": "code",
      "metadata": {
        "colab": {
          "base_uri": "https://localhost:8080/",
          "height": 272
        },
        "id": "Jl0MtXmdDpqc",
        "outputId": "bed8c08d-3d65-4040-f91f-48a5616b5924"
      },
      "source": [
        "import pandas as pd\n",
        "import numpy as np\n",
        "import nltk\n",
        "import re\n",
        "import matplotlib.pyplot as plt\n",
        "from sklearn import preprocessing\n",
        "from sklearn.model_selection import train_test_split\n",
        "from nltk.corpus import stopwords\n",
        "from nltk.stem import WordNetLemmatizer\n",
        "from keras.preprocessing.text import Tokenizer\n",
        "from keras.preprocessing.sequence import pad_sequences\n",
        "from keras.models import Sequential\n",
        "from keras.layers import Conv1D, Dense, Dropout, Embedding, Flatten, GlobalAveragePooling1D, MaxPooling1D\n",
        "\n",
        "nltk.download('stopwords')\n",
        "nltk.download('wordnet')\n",
        "\n",
        "# reading data\n",
        "df=pd.read_csv('SMSSpamCollection' ,sep='\\t',names=[\"labels\",\"message\"])\n",
        "y=df.iloc[:,0]\n",
        "x=df.iloc[:,-1]\n",
        "\n",
        "\n",
        "label_encoder = preprocessing.LabelEncoder()\n",
        "df['labels']= label_encoder.fit_transform(df['labels'])\n",
        "y=df['labels']\n",
        "df['labels'].unique()\n",
        "\n",
        "wl = WordNetLemmatizer()\n",
        "processed_data = []\n",
        "for i in range(0, len(df)):\n",
        "    data = re.sub('[^a-zA-Z]', ' ', df['message'][i])\n",
        "    data = data.lower()\n",
        "    data = data.split()\n",
        "    \n",
        "    data = [wl.lemmatize(word) for word in data if not word in stopwords.words('english')]\n",
        "    data = ' '.join(data)\n",
        "    processed_data.append(data)\n",
        "\n",
        "df['message']=processed_data\n",
        "df.head()"
      ],
      "execution_count": null,
      "outputs": [
        {
          "output_type": "stream",
          "text": [
            "[nltk_data] Downloading package stopwords to /root/nltk_data...\n",
            "[nltk_data]   Unzipping corpora/stopwords.zip.\n",
            "[nltk_data] Downloading package wordnet to /root/nltk_data...\n",
            "[nltk_data]   Unzipping corpora/wordnet.zip.\n"
          ],
          "name": "stdout"
        },
        {
          "output_type": "execute_result",
          "data": {
            "text/html": [
              "<div>\n",
              "<style scoped>\n",
              "    .dataframe tbody tr th:only-of-type {\n",
              "        vertical-align: middle;\n",
              "    }\n",
              "\n",
              "    .dataframe tbody tr th {\n",
              "        vertical-align: top;\n",
              "    }\n",
              "\n",
              "    .dataframe thead th {\n",
              "        text-align: right;\n",
              "    }\n",
              "</style>\n",
              "<table border=\"1\" class=\"dataframe\">\n",
              "  <thead>\n",
              "    <tr style=\"text-align: right;\">\n",
              "      <th></th>\n",
              "      <th>labels</th>\n",
              "      <th>message</th>\n",
              "    </tr>\n",
              "  </thead>\n",
              "  <tbody>\n",
              "    <tr>\n",
              "      <th>0</th>\n",
              "      <td>0</td>\n",
              "      <td>go jurong point crazy available bugis n great ...</td>\n",
              "    </tr>\n",
              "    <tr>\n",
              "      <th>1</th>\n",
              "      <td>0</td>\n",
              "      <td>ok lar joking wif u oni</td>\n",
              "    </tr>\n",
              "    <tr>\n",
              "      <th>2</th>\n",
              "      <td>1</td>\n",
              "      <td>free entry wkly comp win fa cup final tkts st ...</td>\n",
              "    </tr>\n",
              "    <tr>\n",
              "      <th>3</th>\n",
              "      <td>0</td>\n",
              "      <td>u dun say early hor u c already say</td>\n",
              "    </tr>\n",
              "    <tr>\n",
              "      <th>4</th>\n",
              "      <td>0</td>\n",
              "      <td>nah think go usf life around though</td>\n",
              "    </tr>\n",
              "  </tbody>\n",
              "</table>\n",
              "</div>"
            ],
            "text/plain": [
              "   labels                                            message\n",
              "0       0  go jurong point crazy available bugis n great ...\n",
              "1       0                            ok lar joking wif u oni\n",
              "2       1  free entry wkly comp win fa cup final tkts st ...\n",
              "3       0                u dun say early hor u c already say\n",
              "4       0                nah think go usf life around though"
            ]
          },
          "metadata": {
            "tags": []
          },
          "execution_count": 5
        }
      ]
    },
    {
      "cell_type": "code",
      "metadata": {
        "id": "fvSYQZyeIMHH"
      },
      "source": [
        "X_train, X_test, y_train, y_test = train_test_split(x, y, test_size=0.3, random_state=0)\n",
        "# defining hyperparameters\n",
        "max_len = 50\n",
        "# vocab_size = 500\n",
        "oov_tok = \"<OOV>\"\n",
        "# for out of vocabulary words\n",
        "tk = Tokenizer(filters='!@\"#$%^&*()-/+:;.?=<>`~[]{|}\\\\t\\n', lower=True, split=\" \",oov_token=oov_tok)\n",
        "\n",
        "tk.fit_on_texts(X_train)\n",
        "trained_seq = tk.texts_to_sequences(X_train)\n",
        "pad_train = pad_sequences(trained_seq, maxlen=max_len, padding='post', truncating='post')\n",
        "vocab_size_train = len(tk.word_index) + 1\n",
        "\n",
        "test_sequence = tk.texts_to_sequences(X_test)\n",
        "pad_test = pad_sequences(test_sequence, maxlen=max_len, padding='post', truncating='post')\n",
        "vocab_size_test = len(tk.word_index) + 1"
      ],
      "execution_count": null,
      "outputs": []
    },
    {
      "cell_type": "code",
      "metadata": {
        "colab": {
          "base_uri": "https://localhost:8080/"
        },
        "id": "20UC9mwDKFID",
        "outputId": "0b13bdf6-4d32-455a-fd47-2c21d434c2ff"
      },
      "source": [
        "model = Sequential()\n",
        "model.add(Embedding(input_dim=vocab_size_train, output_dim=16, input_length=max_len, trainable=True))\n",
        "model.add(GlobalAveragePooling1D())\n",
        "model.add(Dense(24, activation='relu'))\n",
        "model.add(Dropout(0.2))\n",
        "model.add(Dense(1, activation='sigmoid'))\n",
        "model.summary()"
      ],
      "execution_count": null,
      "outputs": [
        {
          "output_type": "stream",
          "text": [
            "Model: \"sequential\"\n",
            "_________________________________________________________________\n",
            "Layer (type)                 Output Shape              Param #   \n",
            "=================================================================\n",
            "embedding (Embedding)        (None, 50, 16)            114368    \n",
            "_________________________________________________________________\n",
            "global_average_pooling1d (Gl (None, 16)                0         \n",
            "_________________________________________________________________\n",
            "dense (Dense)                (None, 24)                408       \n",
            "_________________________________________________________________\n",
            "dropout (Dropout)            (None, 24)                0         \n",
            "_________________________________________________________________\n",
            "dense_1 (Dense)              (None, 1)                 25        \n",
            "=================================================================\n",
            "Total params: 114,801\n",
            "Trainable params: 114,801\n",
            "Non-trainable params: 0\n",
            "_________________________________________________________________\n"
          ],
          "name": "stdout"
        }
      ]
    },
    {
      "cell_type": "code",
      "metadata": {
        "colab": {
          "base_uri": "https://localhost:8080/"
        },
        "id": "KEsHx8_yK04i",
        "outputId": "ee48b43d-b582-4698-b227-bcb0dfb5e0b3"
      },
      "source": [
        "model.compile(loss='binary_crossentropy', optimizer='adam', metrics=['accuracy'])\n",
        "\n",
        "num_epochs = 10\n",
        "\n",
        "model.fit(pad_train, y_train, epochs=num_epochs,validation_split=0.2)\n",
        "y_train"
      ],
      "execution_count": null,
      "outputs": [
        {
          "output_type": "stream",
          "text": [
            "Epoch 1/10\n",
            "98/98 [==============================] - 2s 10ms/step - loss: 0.6311 - accuracy: 0.8299 - val_loss: 0.3920 - val_accuracy: 0.8769\n",
            "Epoch 2/10\n",
            "98/98 [==============================] - 0s 4ms/step - loss: 0.3596 - accuracy: 0.8617 - val_loss: 0.2763 - val_accuracy: 0.8769\n",
            "Epoch 3/10\n",
            "98/98 [==============================] - 0s 4ms/step - loss: 0.2915 - accuracy: 0.8553 - val_loss: 0.2202 - val_accuracy: 0.8833\n",
            "Epoch 4/10\n",
            "98/98 [==============================] - 0s 4ms/step - loss: 0.2145 - accuracy: 0.8906 - val_loss: 0.1611 - val_accuracy: 0.9397\n",
            "Epoch 5/10\n",
            "98/98 [==============================] - 0s 4ms/step - loss: 0.1406 - accuracy: 0.9624 - val_loss: 0.1124 - val_accuracy: 0.9679\n",
            "Epoch 6/10\n",
            "98/98 [==============================] - 0s 4ms/step - loss: 0.0903 - accuracy: 0.9774 - val_loss: 0.0812 - val_accuracy: 0.9769\n",
            "Epoch 7/10\n",
            "98/98 [==============================] - 0s 4ms/step - loss: 0.0647 - accuracy: 0.9822 - val_loss: 0.0674 - val_accuracy: 0.9782\n",
            "Epoch 8/10\n",
            "98/98 [==============================] - 0s 4ms/step - loss: 0.0471 - accuracy: 0.9868 - val_loss: 0.0605 - val_accuracy: 0.9808\n",
            "Epoch 9/10\n",
            "98/98 [==============================] - 0s 4ms/step - loss: 0.0384 - accuracy: 0.9903 - val_loss: 0.0557 - val_accuracy: 0.9846\n",
            "Epoch 10/10\n",
            "98/98 [==============================] - 0s 4ms/step - loss: 0.0290 - accuracy: 0.9909 - val_loss: 0.0531 - val_accuracy: 0.9859\n"
          ],
          "name": "stdout"
        },
        {
          "output_type": "execute_result",
          "data": {
            "text/plain": [
              "4380    0\n",
              "3887    0\n",
              "4755    0\n",
              "2707    0\n",
              "4747    0\n",
              "       ..\n",
              "4931    1\n",
              "3264    0\n",
              "1653    1\n",
              "2607    0\n",
              "2732    0\n",
              "Name: labels, Length: 3900, dtype: int64"
            ]
          },
          "metadata": {
            "tags": []
          },
          "execution_count": 8
        }
      ]
    },
    {
      "cell_type": "code",
      "metadata": {
        "colab": {
          "base_uri": "https://localhost:8080/"
        },
        "id": "hdXxEg8iMVSf",
        "outputId": "2a5b4617-6532-4825-cb80-c992ca3f374e"
      },
      "source": [
        "loss, accuracy = model.evaluate(pad_test, y_test, verbose=0)\n",
        "print(\"Loss on test data: \", loss)\n",
        "print(\"Accuracy of test data: \", accuracy)"
      ],
      "execution_count": null,
      "outputs": [
        {
          "output_type": "stream",
          "text": [
            "Loss on test data:  0.04906924441456795\n",
            "Accuracy of test data:  0.9826555252075195\n"
          ],
          "name": "stdout"
        }
      ]
    },
    {
      "cell_type": "code",
      "metadata": {
        "colab": {
          "base_uri": "https://localhost:8080/"
        },
        "id": "T-cGSoxkM6al",
        "outputId": "63993135-c2c7-4c56-9bca-c2a29b80142e"
      },
      "source": [
        "y_pred=model.predict(pad_test)\n",
        "from sklearn.metrics import precision_score,recall_score,f1_score,roc_auc_score,roc_curve\n",
        "# print(\"Precision = \",precision_score(y_pred,y_test))\n",
        "pred=[]\n",
        "for d in y_pred:\n",
        "  if d>0.5:\n",
        "    pred.append(1)\n",
        "  else:\n",
        "    pred.append(0)\n",
        "p=pd.Series(pred)    \n",
        "print(\"Precision = \",precision_score(p,y_test),\"\\n\")\n",
        "print(\"Recall = \",recall_score(p,y_test),\"\\n\")\n",
        "print(\"F1 score = \",f1_score(p,y_test),\"\\n\")\n",
        "\n",
        "t = Tokenizer()\n",
        "t.fit_on_texts(X_train)\n",
        "\n",
        "seq_tr = t.texts_to_sequences(X_train)\n",
        "pad_seq_tr = pad_sequences(seq_tr, maxlen=max_len, padding='post', truncating='post')\n",
        "vocab_size_tr = len(t.word_index) + 1\n",
        "\n",
        "seq_tt = t.texts_to_sequences(X_test)\n",
        "pad_seq_tt = pad_sequences(seq_tt, maxlen=max_len, padding='post', truncating='post')\n",
        "vocab_size_tt = len(t.word_index) + 1"
      ],
      "execution_count": null,
      "outputs": [
        {
          "output_type": "stream",
          "text": [
            "Precision =  0.8914027149321267 \n",
            "\n",
            "Recall =  0.9752475247524752 \n",
            "\n",
            "F1 score =  0.9314420803782507 \n",
            "\n"
          ],
          "name": "stdout"
        }
      ]
    },
    {
      "cell_type": "code",
      "metadata": {
        "colab": {
          "base_uri": "https://localhost:8080/"
        },
        "id": "jwd11HYaRpbm",
        "outputId": "5807ac76-245a-4605-efc5-8caf4a9058de"
      },
      "source": [
        "lr_probs = model.predict_proba(pad_test)\n",
        "# keep probabilities for the positive outcome only\n",
        "lr_probs = lr_probs[:, ]\n",
        "# calculate scores\n",
        "ns_auc = roc_auc_score(p, y_test)\n",
        "lr_auc = roc_auc_score(y_test, lr_probs)\n",
        "# summarize scores\n",
        "print('No Skill: ROC AUC=%.3f' % (ns_auc))\n",
        "print('Logistic: ROC AUC=%.3f' % (lr_auc))\n",
        "# calculate roc curves\n",
        "ns_fpr, ns_tpr, _ = roc_curve(y_test, p)\n",
        "lr_fpr, lr_tpr, _ = roc_curve(y_test, lr_probs)"
      ],
      "execution_count": null,
      "outputs": [
        {
          "output_type": "stream",
          "text": [
            "No Skill: ROC AUC=0.976\n",
            "Logistic: ROC AUC=0.995\n"
          ],
          "name": "stdout"
        },
        {
          "output_type": "stream",
          "text": [
            "/usr/local/lib/python3.7/dist-packages/tensorflow/python/keras/engine/sequential.py:425: UserWarning: `model.predict_proba()` is deprecated and will be removed after 2021-01-01. Please use `model.predict()` instead.\n",
            "  warnings.warn('`model.predict_proba()` is deprecated and '\n"
          ],
          "name": "stderr"
        }
      ]
    },
    {
      "cell_type": "code",
      "metadata": {
        "colab": {
          "base_uri": "https://localhost:8080/"
        },
        "id": "dodEYKv7iVmO",
        "outputId": "8a1b312a-0d4a-4356-c517-593f50cec23d"
      },
      "source": [
        "\n",
        "!ls \"/content/drive/My Drive/glove\"\n",
        "!unzip -q \"/content/drive/My Drive/glove/glove.6B.zip\""
      ],
      "execution_count": null,
      "outputs": [
        {
          "output_type": "stream",
          "text": [
            "glove.6B.zip\n"
          ],
          "name": "stdout"
        }
      ]
    },
    {
      "cell_type": "code",
      "metadata": {
        "id": "Licm-Arhs6rN",
        "colab": {
          "base_uri": "https://localhost:8080/"
        },
        "outputId": "907fa88a-8761-4de7-89b6-cad4c75a8122"
      },
      "source": [
        "from google.colab import drive\n",
        "drive.mount('/content/drive')\n",
        "\n",
        "\n",
        "import zipfile\n",
        "zip_ref = zipfile.ZipFile(\"/content/drive/My Drive/glove/glove.6B.zip\", 'r')\n",
        "zip_ref.extractall(\"/tmp\")\n",
        "zip_ref.close()"
      ],
      "execution_count": null,
      "outputs": [
        {
          "output_type": "stream",
          "text": [
            "Drive already mounted at /content/drive; to attempt to forcibly remount, call drive.mount(\"/content/drive\", force_remount=True).\n"
          ],
          "name": "stdout"
        }
      ]
    },
    {
      "cell_type": "code",
      "metadata": {
        "colab": {
          "base_uri": "https://localhost:8080/"
        },
        "id": "V8leuVfHcTQR",
        "outputId": "f7a0b77a-8473-40f4-d32a-25e9a801ccb3"
      },
      "source": [
        "embedding_vectors = {}\n",
        "import numpy as np\n",
        "f = open(\"glove.6B.200d.txt\",encoding=\"utf8\" )\n",
        "for line in f:\n",
        "    value = line.split(\" \")\n",
        "    word = value[0]\n",
        "    coef = np.array(value[1:], dtype='float32')\n",
        "    embedding_vectors[word] = coef\n",
        "f.close()\n",
        "\n",
        "print(\"Total word vectors: \", len(embedding_vectors))\n",
        "\n"
      ],
      "execution_count": null,
      "outputs": [
        {
          "output_type": "stream",
          "text": [
            "Total word vectors:  400000\n"
          ],
          "name": "stdout"
        }
      ]
    },
    {
      "cell_type": "code",
      "metadata": {
        "id": "dDrq6J_9uwCH"
      },
      "source": [
        "m = 50\n",
        "\n",
        "t = Tokenizer()\n",
        "t.fit_on_texts(X_train)\n",
        "\n",
        "seq_tr = t.texts_to_sequences(X_train)\n",
        "pad_seq_tr = pad_sequences(seq_tr, maxlen=max_len, padding='post', truncating='post')\n",
        "vocab_size_tr = len(t.word_index) + 1\n",
        "\n",
        "seq_tt = t.texts_to_sequences(X_test)\n",
        "pad_seq_tt = pad_sequences(seq_tt, maxlen=max_len, padding='post', truncating='post')\n",
        "vocab_size_tt = len(t.word_index) + 1          # add 1 so that if any word comes into the model which is not seen by the model before, it is assigned that place"
      ],
      "execution_count": null,
      "outputs": []
    },
    {
      "cell_type": "code",
      "metadata": {
        "id": "IyVGCTfvxhMH"
      },
      "source": [
        "# creating a matrix only of the words present in our corpus and their vectors\n",
        "embedding_matrix = np.zeros((vocab_size_tr, 200))\n",
        "for word, i in t.word_index.items():\n",
        "    embedding_value = embedding_vectors.get(word)\n",
        "    if embedding_value is not None:\n",
        "        embedding_matrix[i] = embedding_value"
      ],
      "execution_count": null,
      "outputs": []
    },
    {
      "cell_type": "code",
      "metadata": {
        "colab": {
          "base_uri": "https://localhost:8080/"
        },
        "id": "1qNYW0MbxAlC",
        "outputId": "1de938b0-3551-4cec-adaf-0f8e7c953599"
      },
      "source": [
        "drop_value = 0.2\n",
        "n_dense = 24\n",
        "\n",
        "# building model\n",
        "model = Sequential()\n",
        "model.add(Embedding(input_dim=vocab_size_tr, output_dim=200, weights=[embedding_matrix], input_length=max_len, trainable=False))\n",
        "model.add(Conv1D(filters = 128 , kernel_size =3 ,activation = 'relu'))#converts output to 128 value which is mutiple of 128 \n",
        "model.add(MaxPooling1D(5))#here max pooling window size is 5 while strides default is 1 ex : {1,2,3,4}->array([[1.],[2.],[3.]) but max size of a element is 5\n",
        "model.add(Flatten())# it converts the input matrix into 2 X n version, ex : (none,1,2,40)-> (none,80)\n",
        "model.add(Dense(256, activation='relu'))#256 gives best output so 256, and 2 with softmax while 1 with sigmoid in dense final layer\n",
        "model.add(Dropout(drop_value))\n",
        "model.add(Dense(1, activation='sigmoid'))\n",
        "# model compilation\n",
        "model.compile(optimizer=\"adam\", loss=\"binary_crossentropy\", metrics=['accuracy'])\n",
        "\n",
        "model.summary()"
      ],
      "execution_count": null,
      "outputs": [
        {
          "output_type": "stream",
          "text": [
            "Model: \"sequential_2\"\n",
            "_________________________________________________________________\n",
            "Layer (type)                 Output Shape              Param #   \n",
            "=================================================================\n",
            "embedding_2 (Embedding)      (None, 50, 200)           1511600   \n",
            "_________________________________________________________________\n",
            "conv1d_1 (Conv1D)            (None, 48, 128)           76928     \n",
            "_________________________________________________________________\n",
            "max_pooling1d_1 (MaxPooling1 (None, 9, 128)            0         \n",
            "_________________________________________________________________\n",
            "flatten (Flatten)            (None, 1152)              0         \n",
            "_________________________________________________________________\n",
            "dense_2 (Dense)              (None, 256)               295168    \n",
            "_________________________________________________________________\n",
            "dropout_1 (Dropout)          (None, 256)               0         \n",
            "_________________________________________________________________\n",
            "dense_3 (Dense)              (None, 1)                 257       \n",
            "=================================================================\n",
            "Total params: 1,883,953\n",
            "Trainable params: 372,353\n",
            "Non-trainable params: 1,511,600\n",
            "_________________________________________________________________\n"
          ],
          "name": "stdout"
        }
      ]
    },
    {
      "cell_type": "code",
      "metadata": {
        "colab": {
          "base_uri": "https://localhost:8080/"
        },
        "id": "4gp_GfGexta0",
        "outputId": "780c69f9-39f1-46d7-8620-edc58fbcf5f7"
      },
      "source": [
        "model.fit(pad_seq_tr, y_train, epochs=10, validation_split=0.2)\n",
        "y_pred=model.predict(pad_seq_tt)\n",
        "from sklearn.metrics import precision_score,recall_score,f1_score,roc_auc_score,roc_curve,accuracy_score\n",
        "# print(\"Precision = \",precision_score(y_pred,y_test))\n",
        "pred=[]\n",
        "for d in y_pred:\n",
        "  if d>0.5:\n",
        "    pred.append(1)\n",
        "  else:\n",
        "    pred.append(0)\n",
        "p=pd.Series(pred)    \n",
        "print(\"Precision = \",precision_score(p,y_test),\"\\n\")\n",
        "print(\"Recall = \",recall_score(p,y_test),\"\\n\")\n",
        "print(\"F1 score = \",f1_score(p,y_test),\"\\n\")"
      ],
      "execution_count": null,
      "outputs": [
        {
          "output_type": "stream",
          "text": [
            "Epoch 1/10\n",
            "98/98 [==============================] - 3s 24ms/step - loss: 0.2292 - accuracy: 0.9231 - val_loss: 0.1024 - val_accuracy: 0.9667\n",
            "Epoch 2/10\n",
            "98/98 [==============================] - 2s 21ms/step - loss: 0.0637 - accuracy: 0.9802 - val_loss: 0.0524 - val_accuracy: 0.9808\n",
            "Epoch 3/10\n",
            "98/98 [==============================] - 2s 22ms/step - loss: 0.0143 - accuracy: 0.9955 - val_loss: 0.0676 - val_accuracy: 0.9756\n",
            "Epoch 4/10\n",
            "98/98 [==============================] - 2s 21ms/step - loss: 0.0092 - accuracy: 0.9979 - val_loss: 0.0552 - val_accuracy: 0.9808\n",
            "Epoch 5/10\n",
            "98/98 [==============================] - 2s 22ms/step - loss: 0.0029 - accuracy: 0.9995 - val_loss: 0.0491 - val_accuracy: 0.9821\n",
            "Epoch 6/10\n",
            "98/98 [==============================] - 2s 21ms/step - loss: 0.0024 - accuracy: 0.9991 - val_loss: 0.0572 - val_accuracy: 0.9833\n",
            "Epoch 7/10\n",
            "98/98 [==============================] - 2s 22ms/step - loss: 0.0013 - accuracy: 0.9996 - val_loss: 0.0640 - val_accuracy: 0.9821\n",
            "Epoch 8/10\n",
            "98/98 [==============================] - 2s 22ms/step - loss: 4.4874e-04 - accuracy: 1.0000 - val_loss: 0.0641 - val_accuracy: 0.9821\n",
            "Epoch 9/10\n",
            "98/98 [==============================] - 2s 22ms/step - loss: 0.0011 - accuracy: 0.9995 - val_loss: 0.0687 - val_accuracy: 0.9833\n",
            "Epoch 10/10\n",
            "98/98 [==============================] - 2s 22ms/step - loss: 0.0011 - accuracy: 0.9997 - val_loss: 0.0708 - val_accuracy: 0.9821\n",
            "Precision =  0.8914027149321267 \n",
            "\n",
            "Recall =  0.9752475247524752 \n",
            "\n",
            "F1 score =  0.9314420803782507 \n",
            "\n"
          ],
          "name": "stdout"
        }
      ]
    },
    {
      "cell_type": "code",
      "metadata": {
        "colab": {
          "base_uri": "https://localhost:8080/"
        },
        "id": "tjeU2peGVyXf",
        "outputId": "7a287f02-77df-4f05-8850-049ce3b342ca"
      },
      "source": [
        "!pip install scikit-plot"
      ],
      "execution_count": null,
      "outputs": [
        {
          "output_type": "stream",
          "text": [
            "Requirement already satisfied: scikit-plot in /usr/local/lib/python3.7/dist-packages (0.3.7)\n",
            "Requirement already satisfied: scikit-learn>=0.18 in /usr/local/lib/python3.7/dist-packages (from scikit-plot) (0.22.2.post1)\n",
            "Requirement already satisfied: scipy>=0.9 in /usr/local/lib/python3.7/dist-packages (from scikit-plot) (1.4.1)\n",
            "Requirement already satisfied: matplotlib>=1.4.0 in /usr/local/lib/python3.7/dist-packages (from scikit-plot) (3.2.2)\n",
            "Requirement already satisfied: joblib>=0.10 in /usr/local/lib/python3.7/dist-packages (from scikit-plot) (1.0.1)\n",
            "Requirement already satisfied: numpy>=1.11.0 in /usr/local/lib/python3.7/dist-packages (from scikit-learn>=0.18->scikit-plot) (1.19.5)\n",
            "Requirement already satisfied: python-dateutil>=2.1 in /usr/local/lib/python3.7/dist-packages (from matplotlib>=1.4.0->scikit-plot) (2.8.1)\n",
            "Requirement already satisfied: kiwisolver>=1.0.1 in /usr/local/lib/python3.7/dist-packages (from matplotlib>=1.4.0->scikit-plot) (1.3.1)\n",
            "Requirement already satisfied: cycler>=0.10 in /usr/local/lib/python3.7/dist-packages (from matplotlib>=1.4.0->scikit-plot) (0.10.0)\n",
            "Requirement already satisfied: pyparsing!=2.0.4,!=2.1.2,!=2.1.6,>=2.0.1 in /usr/local/lib/python3.7/dist-packages (from matplotlib>=1.4.0->scikit-plot) (2.4.7)\n",
            "Requirement already satisfied: six>=1.5 in /usr/local/lib/python3.7/dist-packages (from python-dateutil>=2.1->matplotlib>=1.4.0->scikit-plot) (1.15.0)\n"
          ],
          "name": "stdout"
        }
      ]
    },
    {
      "cell_type": "code",
      "metadata": {
        "colab": {
          "base_uri": "https://localhost:8080/",
          "height": 595
        },
        "id": "tw38nd8BVbV-",
        "outputId": "96d08d26-c958-4ff7-f410-e47b1f3c8449"
      },
      "source": [
        "import scikitplot as skplt\n",
        "import matplotlib.pyplot as plt\n",
        "# Y_test_bin=np.argmax(y_test)\n",
        "# pred_bin=np.argmax(pred)\n",
        "# skplt.metrics.plot_roc_curve(y_test, p)\n",
        "# plt.show()\n"
      ],
      "execution_count": null,
      "outputs": [
        {
          "output_type": "error",
          "ename": "KeyError",
          "evalue": "ignored",
          "traceback": [
            "\u001b[0;31m---------------------------------------------------------------------------\u001b[0m",
            "\u001b[0;31mKeyError\u001b[0m                                  Traceback (most recent call last)",
            "\u001b[0;32m/usr/local/lib/python3.7/dist-packages/pandas/core/indexes/base.py\u001b[0m in \u001b[0;36mget_loc\u001b[0;34m(self, key, method, tolerance)\u001b[0m\n\u001b[1;32m   2897\u001b[0m             \u001b[0;32mtry\u001b[0m\u001b[0;34m:\u001b[0m\u001b[0;34m\u001b[0m\u001b[0;34m\u001b[0m\u001b[0m\n\u001b[0;32m-> 2898\u001b[0;31m                 \u001b[0;32mreturn\u001b[0m \u001b[0mself\u001b[0m\u001b[0;34m.\u001b[0m\u001b[0m_engine\u001b[0m\u001b[0;34m.\u001b[0m\u001b[0mget_loc\u001b[0m\u001b[0;34m(\u001b[0m\u001b[0mcasted_key\u001b[0m\u001b[0;34m)\u001b[0m\u001b[0;34m\u001b[0m\u001b[0;34m\u001b[0m\u001b[0m\n\u001b[0m\u001b[1;32m   2899\u001b[0m             \u001b[0;32mexcept\u001b[0m \u001b[0mKeyError\u001b[0m \u001b[0;32mas\u001b[0m \u001b[0merr\u001b[0m\u001b[0;34m:\u001b[0m\u001b[0;34m\u001b[0m\u001b[0;34m\u001b[0m\u001b[0m\n",
            "\u001b[0;32mpandas/_libs/index.pyx\u001b[0m in \u001b[0;36mpandas._libs.index.IndexEngine.get_loc\u001b[0;34m()\u001b[0m\n",
            "\u001b[0;32mpandas/_libs/index.pyx\u001b[0m in \u001b[0;36mpandas._libs.index.IndexEngine.get_loc\u001b[0;34m()\u001b[0m\n",
            "\u001b[0;32mpandas/_libs/hashtable_class_helper.pxi\u001b[0m in \u001b[0;36mpandas._libs.hashtable.Int64HashTable.get_item\u001b[0;34m()\u001b[0m\n",
            "\u001b[0;32mpandas/_libs/hashtable_class_helper.pxi\u001b[0m in \u001b[0;36mpandas._libs.hashtable.Int64HashTable.get_item\u001b[0;34m()\u001b[0m\n",
            "\u001b[0;31mKeyError\u001b[0m: 0",
            "\nThe above exception was the direct cause of the following exception:\n",
            "\u001b[0;31mKeyError\u001b[0m                                  Traceback (most recent call last)",
            "\u001b[0;32m<ipython-input-63-cf28d0d85961>\u001b[0m in \u001b[0;36m<module>\u001b[0;34m()\u001b[0m\n\u001b[1;32m      5\u001b[0m \u001b[0;31m# skplt.metrics.plot_roc_curve(y_test, p)\u001b[0m\u001b[0;34m\u001b[0m\u001b[0;34m\u001b[0m\u001b[0;34m\u001b[0m\u001b[0m\n\u001b[1;32m      6\u001b[0m \u001b[0;31m# plt.show()\u001b[0m\u001b[0;34m\u001b[0m\u001b[0;34m\u001b[0m\u001b[0;34m\u001b[0m\u001b[0m\n\u001b[0;32m----> 7\u001b[0;31m \u001b[0mprint\u001b[0m\u001b[0;34m(\u001b[0m\u001b[0my_test\u001b[0m\u001b[0;34m[\u001b[0m\u001b[0;36m0\u001b[0m\u001b[0;34m]\u001b[0m\u001b[0;34m,\u001b[0m\u001b[0mp\u001b[0m\u001b[0;34m)\u001b[0m\u001b[0;34m\u001b[0m\u001b[0;34m\u001b[0m\u001b[0m\n\u001b[0m",
            "\u001b[0;32m/usr/local/lib/python3.7/dist-packages/pandas/core/series.py\u001b[0m in \u001b[0;36m__getitem__\u001b[0;34m(self, key)\u001b[0m\n\u001b[1;32m    880\u001b[0m \u001b[0;34m\u001b[0m\u001b[0m\n\u001b[1;32m    881\u001b[0m         \u001b[0;32melif\u001b[0m \u001b[0mkey_is_scalar\u001b[0m\u001b[0;34m:\u001b[0m\u001b[0;34m\u001b[0m\u001b[0;34m\u001b[0m\u001b[0m\n\u001b[0;32m--> 882\u001b[0;31m             \u001b[0;32mreturn\u001b[0m \u001b[0mself\u001b[0m\u001b[0;34m.\u001b[0m\u001b[0m_get_value\u001b[0m\u001b[0;34m(\u001b[0m\u001b[0mkey\u001b[0m\u001b[0;34m)\u001b[0m\u001b[0;34m\u001b[0m\u001b[0;34m\u001b[0m\u001b[0m\n\u001b[0m\u001b[1;32m    883\u001b[0m \u001b[0;34m\u001b[0m\u001b[0m\n\u001b[1;32m    884\u001b[0m         \u001b[0;32mif\u001b[0m \u001b[0mis_hashable\u001b[0m\u001b[0;34m(\u001b[0m\u001b[0mkey\u001b[0m\u001b[0;34m)\u001b[0m\u001b[0;34m:\u001b[0m\u001b[0;34m\u001b[0m\u001b[0;34m\u001b[0m\u001b[0m\n",
            "\u001b[0;32m/usr/local/lib/python3.7/dist-packages/pandas/core/series.py\u001b[0m in \u001b[0;36m_get_value\u001b[0;34m(self, label, takeable)\u001b[0m\n\u001b[1;32m    988\u001b[0m \u001b[0;34m\u001b[0m\u001b[0m\n\u001b[1;32m    989\u001b[0m         \u001b[0;31m# Similar to Index.get_value, but we do not fall back to positional\u001b[0m\u001b[0;34m\u001b[0m\u001b[0;34m\u001b[0m\u001b[0;34m\u001b[0m\u001b[0m\n\u001b[0;32m--> 990\u001b[0;31m         \u001b[0mloc\u001b[0m \u001b[0;34m=\u001b[0m \u001b[0mself\u001b[0m\u001b[0;34m.\u001b[0m\u001b[0mindex\u001b[0m\u001b[0;34m.\u001b[0m\u001b[0mget_loc\u001b[0m\u001b[0;34m(\u001b[0m\u001b[0mlabel\u001b[0m\u001b[0;34m)\u001b[0m\u001b[0;34m\u001b[0m\u001b[0;34m\u001b[0m\u001b[0m\n\u001b[0m\u001b[1;32m    991\u001b[0m         \u001b[0;32mreturn\u001b[0m \u001b[0mself\u001b[0m\u001b[0;34m.\u001b[0m\u001b[0mindex\u001b[0m\u001b[0;34m.\u001b[0m\u001b[0m_get_values_for_loc\u001b[0m\u001b[0;34m(\u001b[0m\u001b[0mself\u001b[0m\u001b[0;34m,\u001b[0m \u001b[0mloc\u001b[0m\u001b[0;34m,\u001b[0m \u001b[0mlabel\u001b[0m\u001b[0;34m)\u001b[0m\u001b[0;34m\u001b[0m\u001b[0;34m\u001b[0m\u001b[0m\n\u001b[1;32m    992\u001b[0m \u001b[0;34m\u001b[0m\u001b[0m\n",
            "\u001b[0;32m/usr/local/lib/python3.7/dist-packages/pandas/core/indexes/base.py\u001b[0m in \u001b[0;36mget_loc\u001b[0;34m(self, key, method, tolerance)\u001b[0m\n\u001b[1;32m   2898\u001b[0m                 \u001b[0;32mreturn\u001b[0m \u001b[0mself\u001b[0m\u001b[0;34m.\u001b[0m\u001b[0m_engine\u001b[0m\u001b[0;34m.\u001b[0m\u001b[0mget_loc\u001b[0m\u001b[0;34m(\u001b[0m\u001b[0mcasted_key\u001b[0m\u001b[0;34m)\u001b[0m\u001b[0;34m\u001b[0m\u001b[0;34m\u001b[0m\u001b[0m\n\u001b[1;32m   2899\u001b[0m             \u001b[0;32mexcept\u001b[0m \u001b[0mKeyError\u001b[0m \u001b[0;32mas\u001b[0m \u001b[0merr\u001b[0m\u001b[0;34m:\u001b[0m\u001b[0;34m\u001b[0m\u001b[0;34m\u001b[0m\u001b[0m\n\u001b[0;32m-> 2900\u001b[0;31m                 \u001b[0;32mraise\u001b[0m \u001b[0mKeyError\u001b[0m\u001b[0;34m(\u001b[0m\u001b[0mkey\u001b[0m\u001b[0;34m)\u001b[0m \u001b[0;32mfrom\u001b[0m \u001b[0merr\u001b[0m\u001b[0;34m\u001b[0m\u001b[0;34m\u001b[0m\u001b[0m\n\u001b[0m\u001b[1;32m   2901\u001b[0m \u001b[0;34m\u001b[0m\u001b[0m\n\u001b[1;32m   2902\u001b[0m         \u001b[0;32mif\u001b[0m \u001b[0mtolerance\u001b[0m \u001b[0;32mis\u001b[0m \u001b[0;32mnot\u001b[0m \u001b[0;32mNone\u001b[0m\u001b[0;34m:\u001b[0m\u001b[0;34m\u001b[0m\u001b[0;34m\u001b[0m\u001b[0m\n",
            "\u001b[0;31mKeyError\u001b[0m: 0"
          ]
        }
      ]
    }
  ]
}